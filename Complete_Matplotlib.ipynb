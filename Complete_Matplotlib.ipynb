{
  "nbformat": 4,
  "nbformat_minor": 0,
  "metadata": {
    "colab": {
      "name": "Complete_Matplotlib.ipynb",
      "provenance": [],
      "authorship_tag": "ABX9TyMbWFIjY+A066nIVzsDHWol",
      "include_colab_link": true
    },
    "kernelspec": {
      "name": "python3",
      "display_name": "Python 3"
    }
  },
  "cells": [
    {
      "cell_type": "markdown",
      "metadata": {
        "id": "view-in-github",
        "colab_type": "text"
      },
      "source": [
        "<a href=\"https://colab.research.google.com/github/TheDeshBhakt/Data-Science-and-Machine-Learning/blob/master/Complete_Matplotlib.ipynb\" target=\"_parent\"><img src=\"https://colab.research.google.com/assets/colab-badge.svg\" alt=\"Open In Colab\"/></a>"
      ]
    },
    {
      "cell_type": "code",
      "metadata": {
        "id": "D7ln1xumImQ5",
        "colab_type": "code",
        "colab": {}
      },
      "source": [
        "import matplotlib.pyplot as plt"
      ],
      "execution_count": 0,
      "outputs": []
    },
    {
      "cell_type": "code",
      "metadata": {
        "id": "28P0pniwIxhh",
        "colab_type": "code",
        "colab": {}
      },
      "source": [
        "import numpy as np"
      ],
      "execution_count": 0,
      "outputs": []
    },
    {
      "cell_type": "code",
      "metadata": {
        "id": "bCzbkAwRI5VF",
        "colab_type": "code",
        "colab": {}
      },
      "source": [
        "x = np.linspace(0,10,20)\n",
        "y = x**2"
      ],
      "execution_count": 0,
      "outputs": []
    },
    {
      "cell_type": "code",
      "metadata": {
        "id": "wgcHkK0xJFOU",
        "colab_type": "code",
        "outputId": "4517ab7c-de13-4e2f-ae0f-22547015179c",
        "colab": {
          "base_uri": "https://localhost:8080/",
          "height": 282
        }
      },
      "source": [
        "plt.plot(x,y)"
      ],
      "execution_count": 5,
      "outputs": [
        {
          "output_type": "execute_result",
          "data": {
            "text/plain": [
              "[<matplotlib.lines.Line2D at 0x7fab8859fa90>]"
            ]
          },
          "metadata": {
            "tags": []
          },
          "execution_count": 5
        },
        {
          "output_type": "display_data",
          "data": {
            "image/png": "[encoded data removed]",
            "text/plain": [
              "<Figure size 432x288 with 1 Axes>"
            ]
          },
          "metadata": {
            "tags": []
          }
        }
      ]
    },
    {
      "cell_type": "code",
      "metadata": {
        "id": "Q8pEhv75JHTF",
        "colab_type": "code",
        "outputId": "274061fd-00ba-4d02-d24f-1611366f1384",
        "colab": {
          "base_uri": "https://localhost:8080/",
          "height": 312
        }
      },
      "source": [
        "plt.plot(x,y)\n",
        "plt.title('First plot')\n",
        "plt.xlabel('X-axis')\n",
        "plt.ylabel('Y-axis')"
      ],
      "execution_count": 6,
      "outputs": [
        {
          "output_type": "execute_result",
          "data": {
            "text/plain": [
              "Text(0, 0.5, 'Y-axis')"
            ]
          },
          "metadata": {
            "tags": []
          },
          "execution_count": 6
        },
        {
          "output_type": "display_data",
          "data": {
            "image/png": "[encoded data removed]",
            "text/plain": [
              "<Figure size 432x288 with 1 Axes>"
            ]
          },
          "metadata": {
            "tags": []
          }
        }
      ]
    },
    {
      "cell_type": "code",
      "metadata": {
        "id": "lPEn4iiNJhLT",
        "colab_type": "code",
        "outputId": "6c479f18-bdf5-413c-a07a-550c8a5cd395",
        "colab": {
          "base_uri": "https://localhost:8080/",
          "height": 282
        }
      },
      "source": [
        "# Create multi-plots on the same figure\n",
        "\n",
        "plt.subplot(1,2,1)\n",
        "plt.plot(x,y,'red') # different color options\n",
        "\n",
        "plt.subplot(1,2,2)\n",
        "plt.plot(x,y,'blue')"
      ],
      "execution_count": 7,
      "outputs": [
        {
          "output_type": "execute_result",
          "data": {
            "text/plain": [
              "[<matplotlib.lines.Line2D at 0x7fab88001668>]"
            ]
          },
          "metadata": {
            "tags": []
          },
          "execution_count": 7
        },
        {
          "output_type": "display_data",
          "data": {
            "image/png": "[encoded data removed]",
            "text/plain": [
              "<Figure size 432x288 with 2 Axes>"
            ]
          },
          "metadata": {
            "tags": []
          }
        }
      ]
    },
    {
      "cell_type": "code",
      "metadata": {
        "id": "SzPH7Hf-KPZM",
        "colab_type": "code",
        "colab": {
          "base_uri": "https://localhost:8080/",
          "height": 34
        },
        "outputId": "205136e6-0a1b-4a87-9a7a-6cacecaa51b1"
      },
      "source": [
        "#Object oriented interface\n",
        "#create Figure objects and call methods off it\n",
        "\n",
        "fig = plt.figure()"
      ],
      "execution_count": 8,
      "outputs": [
        {
          "output_type": "display_data",
          "data": {
            "text/plain": [
              "<Figure size 432x288 with 0 Axes>"
            ]
          },
          "metadata": {
            "tags": []
          }
        }
      ]
    },
    {
      "cell_type": "code",
      "metadata": {
        "id": "AGSUZ7D-aZFP",
        "colab_type": "code",
        "colab": {
          "base_uri": "https://localhost:8080/",
          "height": 311
        },
        "outputId": "0d8200d0-508e-49cb-964a-d5da40d253de"
      },
      "source": [
        "fig = plt.figure()\n",
        "ax = fig.add_axes([0.1, 0.2, 0.8, 0.9])"
      ],
      "execution_count": 10,
      "outputs": [
        {
          "output_type": "display_data",
          "data": {
            "image/png": "[encoded data removed]",
            "text/plain": [
              "<Figure size 432x288 with 1 Axes>"
            ]
          },
          "metadata": {
            "tags": []
          }
        }
      ]
    },
    {
      "cell_type": "code",
      "metadata": {
        "id": "JYKI3IjMa6id",
        "colab_type": "code",
        "colab": {
          "base_uri": "https://localhost:8080/",
          "height": 324
        },
        "outputId": "7e3a2d25-2727-45e2-8917-4f2017a81d30"
      },
      "source": [
        "fig = plt.figure()\n",
        "ax = fig.add_axes([0.1, 0.2, 0.8, 0.9])\n",
        "ax.plot(x, y, 'green')"
      ],
      "execution_count": 11,
      "outputs": [
        {
          "output_type": "execute_result",
          "data": {
            "text/plain": [
              "[<matplotlib.lines.Line2D at 0x7fab87c07d30>]"
            ]
          },
          "metadata": {
            "tags": []
          },
          "execution_count": 11
        },
        {
          "output_type": "display_data",
          "data": {
            "image/png": "[encoded data removed]",
            "text/plain": [
              "<Figure size 432x288 with 1 Axes>"
            ]
          },
          "metadata": {
            "tags": []
          }
        }
      ]
    },
    {
      "cell_type": "code",
      "metadata": {
        "id": "sNkz0IQrbctI",
        "colab_type": "code",
        "colab": {
          "base_uri": "https://localhost:8080/",
          "height": 354
        },
        "outputId": "2c160b9c-4c6a-4cb4-fd7c-ddb21b095f10"
      },
      "source": [
        "fig = plt.figure()\n",
        "ax = fig.add_axes([0.1, 0.2, 0.8, 0.9])\n",
        "ax.plot(x,y,'red')\n",
        "ax.set_xlabel('X-axis')\n",
        "ax.set_ylabel(\"Y-axis\")\n",
        "ax.set_title(\"Plot Using Object Orient Interface\")"
      ],
      "execution_count": 13,
      "outputs": [
        {
          "output_type": "execute_result",
          "data": {
            "text/plain": [
              "Text(0.5, 1.0, 'Plot Using Object Orient Interface')"
            ]
          },
          "metadata": {
            "tags": []
          },
          "execution_count": 13
        },
        {
          "output_type": "display_data",
          "data": {
            "image/png": "[encoded data removed]",
            "text/plain": [
              "<Figure size 432x288 with 1 Axes>"
            ]
          },
          "metadata": {
            "tags": []
          }
        }
      ]
    },
    {
      "cell_type": "code",
      "metadata": {
        "id": "ANFgukXNb5pN",
        "colab_type": "code",
        "colab": {
          "base_uri": "https://localhost:8080/",
          "height": 282
        },
        "outputId": "a25883e5-4f0d-4d66-e730-363cba6ed32d"
      },
      "source": [
        "fig = plt.figure()\n",
        "ax = fig.add_axes([0.1, 0.1, 0.8, 0.8])\n",
        "ax1 = fig.add_axes([0.2, 0.5, 0.4, 0.3])"
      ],
      "execution_count": 15,
      "outputs": [
        {
          "output_type": "display_data",
          "data": {
            "image/png": "[encoded data removed]",
            "text/plain": [
              "<Figure size 432x288 with 2 Axes>"
            ]
          },
          "metadata": {
            "tags": []
          }
        }
      ]
    },
    {
      "cell_type": "code",
      "metadata": {
        "id": "ea2BFkTHcQgR",
        "colab_type": "code",
        "colab": {
          "base_uri": "https://localhost:8080/",
          "height": 295
        },
        "outputId": "4ab34c46-d27b-4153-a6eb-db26cf341d0f"
      },
      "source": [
        "fig = plt.figure()\n",
        "ax = fig.add_axes([0.1, 0.1, 0.8, 0.8])\n",
        "ax1 = fig.add_axes([0.2, 0.5, 0.4, 0.3])\n",
        "ax.plot(x,y)\n",
        "ax1.plot(y,x)"
      ],
      "execution_count": 17,
      "outputs": [
        {
          "output_type": "execute_result",
          "data": {
            "text/plain": [
              "[<matplotlib.lines.Line2D at 0x7fab8788d198>]"
            ]
          },
          "metadata": {
            "tags": []
          },
          "execution_count": 17
        },
        {
          "output_type": "display_data",
          "data": {
            "image/png": "[encoded data removed]",
            "text/plain": [
              "<Figure size 432x288 with 2 Axes>"
            ]
          },
          "metadata": {
            "tags": []
          }
        }
      ]
    },
    {
      "cell_type": "code",
      "metadata": {
        "id": "WMNvhxtjcxot",
        "colab_type": "code",
        "colab": {
          "base_uri": "https://localhost:8080/",
          "height": 269
        },
        "outputId": "17958077-d84e-4385-a450-73d8be988c58"
      },
      "source": [
        "#Create multiple plots in object oriented approach\n",
        "\n",
        "#Empty canvas of 2 by 2 subplots\n",
        "fig, ax = plt.subplots(nrows=2, ncols=2)"
      ],
      "execution_count": 20,
      "outputs": [
        {
          "output_type": "display_data",
          "data": {
            "image/png": "[encoded data removed]",
            "text/plain": [
              "<Figure size 432x288 with 4 Axes>"
            ]
          },
          "metadata": {
            "tags": []
          }
        }
      ]
    },
    {
      "cell_type": "code",
      "metadata": {
        "id": "bDFtyjiSdVAz",
        "colab_type": "code",
        "colab": {
          "base_uri": "https://localhost:8080/",
          "height": 297
        },
        "outputId": "deaaf248-4b8d-4b07-dd75-375be82b0b08"
      },
      "source": [
        "#Removing issues of overlapping\n",
        "fig, ax = plt.subplots(nrows=3, ncols=3)\n",
        "plt.tight_layout()"
      ],
      "execution_count": 21,
      "outputs": [
        {
          "output_type": "display_data",
          "data": {
            "image/png": "[encoded data removed]",
            "text/plain": [
              "<Figure size 432x288 with 9 Axes>"
            ]
          },
          "metadata": {
            "tags": []
          }
        }
      ]
    },
    {
      "cell_type": "code",
      "metadata": {
        "id": "5SNTlYcteHB4",
        "colab_type": "code",
        "colab": {
          "base_uri": "https://localhost:8080/",
          "height": 297
        },
        "outputId": "d3eea3ab-5cfa-4f6a-ede6-bdb108358ab7"
      },
      "source": [
        "# plot x, y on the axes at index position (0,1) and y, x on the axes at position (1,2)\n",
        "fig, ax = plt.subplots(nrows=3, ncols=3)\n",
        "\n",
        "ax[0,1].plot(x,y,'green')\n",
        "ax[1,2].plot(y,x, 'purple')\n",
        "ax[2,1].plot(x,y, 'blue')\n",
        "\n",
        "plt.tight_layout()"
      ],
      "execution_count": 23,
      "outputs": [
        {
          "output_type": "display_data",
          "data": {
            "image/png": "[encoded data removed]",
            "text/plain": [
              "<Figure size 432x288 with 9 Axes>"
            ]
          },
          "metadata": {
            "tags": []
          }
        }
      ]
    },
    {
      "cell_type": "code",
      "metadata": {
        "id": "4Qz2nkneenRn",
        "colab_type": "code",
        "colab": {
          "base_uri": "https://localhost:8080/",
          "height": 227
        },
        "outputId": "cd7caaa9-70d8-40fa-f912-f307965b8992"
      },
      "source": [
        "# figsize is a tuple of the width and height of the figure (in inches), and dpi is the dots-per-inch (pixel-per-inch)\n",
        "\n",
        "fig = plt.figure(figsize=(8,2), dpi=80)\n",
        "ax=fig.add_axes([0,0,1,1])\n",
        "ax.plot(x,y)"
      ],
      "execution_count": 26,
      "outputs": [
        {
          "output_type": "execute_result",
          "data": {
            "text/plain": [
              "[<matplotlib.lines.Line2D at 0x7fab87357048>]"
            ]
          },
          "metadata": {
            "tags": []
          },
          "execution_count": 26
        },
        {
          "output_type": "display_data",
          "data": {
            "image/png": "[encoded data removed]",
            "text/plain": [
              "<Figure size 640x160 with 1 Axes>"
            ]
          },
          "metadata": {
            "tags": []
          }
        }
      ]
    },
    {
      "cell_type": "code",
      "metadata": {
        "id": "hytiYnk8gPk_",
        "colab_type": "code",
        "colab": {
          "base_uri": "https://localhost:8080/",
          "height": 329
        },
        "outputId": "673409aa-a485-488f-fac8-7928760c21d4"
      },
      "source": [
        "fig, ax = plt.subplots(nrows=2, ncols=1, figsize=(8,4), dpi=80)\n",
        "ax[0].plot(x,y,'red')\n",
        "ax[1].plot(y,x,'green')\n",
        "\n",
        "plt.tight_layout()"
      ],
      "execution_count": 30,
      "outputs": [
        {
          "output_type": "display_data",
          "data": {
            "image/png": "[encoded data removed]",
            "text/plain": [
              "<Figure size 640x320 with 2 Axes>"
            ]
          },
          "metadata": {
            "tags": []
          }
        }
      ]
    },
    {
      "cell_type": "code",
      "metadata": {
        "id": "L_y4_H3Pg1nO",
        "colab_type": "code",
        "colab": {}
      },
      "source": [
        "fig.savefig('myfigure.png')"
      ],
      "execution_count": 0,
      "outputs": []
    },
    {
      "cell_type": "code",
      "metadata": {
        "id": "96sNCdr8hD_L",
        "colab_type": "code",
        "colab": {
          "base_uri": "https://localhost:8080/",
          "height": 236
        },
        "outputId": "041891df-cf85-422b-b400-9bb59bbfe92e"
      },
      "source": [
        "import matplotlib.image as mpimg\n",
        "\n",
        "plt.imshow(mpimg.imread('myfigure.png'))"
      ],
      "execution_count": 32,
      "outputs": [
        {
          "output_type": "execute_result",
          "data": {
            "text/plain": [
              "<matplotlib.image.AxesImage at 0x7fab873ddb00>"
            ]
          },
          "metadata": {
            "tags": []
          },
          "execution_count": 32
        },
        {
          "output_type": "display_data",
          "data": {
            "image/png": "[encoded data removed]",
            "text/plain": [
              "<Figure size 432x288 with 1 Axes>"
            ]
          },
          "metadata": {
            "tags": []
          }
        }
      ]
    },
    {
      "cell_type": "code",
      "metadata": {
        "id": "TivVK6Jxhotm",
        "colab_type": "code",
        "colab": {
          "base_uri": "https://localhost:8080/",
          "height": 420
        },
        "outputId": "9454f7e0-ea72-4941-a9cd-9e79dd66d213"
      },
      "source": [
        "fig = plt.figure(figsize=(8,6), dpi=60)\n",
        "ax = fig.add_axes([0,0,1,1])\n",
        "ax.plot(x, x**2)\n",
        "ax.plot(x, x**3, 'red')"
      ],
      "execution_count": 33,
      "outputs": [
        {
          "output_type": "execute_result",
          "data": {
            "text/plain": [
              "[<matplotlib.lines.Line2D at 0x7fab877aa2e8>]"
            ]
          },
          "metadata": {
            "tags": []
          },
          "execution_count": 33
        },
        {
          "output_type": "display_data",
          "data": {
            "image/png": "[encoded data removed]",
            "text/plain": [
              "<Figure size 480x360 with 1 Axes>"
            ]
          },
          "metadata": {
            "tags": []
          }
        }
      ]
    },
    {
      "cell_type": "code",
      "metadata": {
        "id": "XxnPwt_1jKLT",
        "colab_type": "code",
        "colab": {
          "base_uri": "https://localhost:8080/",
          "height": 420
        },
        "outputId": "116703f5-7eed-480b-ad28-1e44c00249c6"
      },
      "source": [
        "fig = plt.figure(figsize=(8,6), dpi=60)\n",
        "ax = fig.add_axes([0,0,1,1])\n",
        "ax.plot(x, x**2, label = 'X Square Plot')\n",
        "ax.plot(x, x**3, 'red', label = 'X Cube Plot')\n",
        "\n",
        "ax.legend()\n",
        "#Legends allows us to distinguish between plots. With Legends, you can use label texts to identify or differentiate one plot from anothe"
      ],
      "execution_count": 34,
      "outputs": [
        {
          "output_type": "execute_result",
          "data": {
            "text/plain": [
              "<matplotlib.legend.Legend at 0x7fab870c0eb8>"
            ]
          },
          "metadata": {
            "tags": []
          },
          "execution_count": 34
        },
        {
          "output_type": "display_data",
          "data": {
            "image/png": "[encoded data removed]",
            "text/plain": [
              "<Figure size 480x360 with 1 Axes>"
            ]
          },
          "metadata": {
            "tags": []
          }
        }
      ]
    },
    {
      "cell_type": "code",
      "metadata": {
        "id": "Ns2R_-iyjquB",
        "colab_type": "code",
        "colab": {
          "base_uri": "https://localhost:8080/",
          "height": 420
        },
        "outputId": "27a10bc9-b7d4-4874-fee2-88b4ea188c5e"
      },
      "source": [
        "fig = plt.figure(figsize=(8,6), dpi=60)\n",
        "ax = fig.add_axes([0,0,1,1])\n",
        "\n",
        "ax.plot(x,y, color='purple', linewidth=3, linestyle='--', marker='*', markersize=12)"
      ],
      "execution_count": 40,
      "outputs": [
        {
          "output_type": "execute_result",
          "data": {
            "text/plain": [
              "[<matplotlib.lines.Line2D at 0x7fab845d4d68>]"
            ]
          },
          "metadata": {
            "tags": []
          },
          "execution_count": 40
        },
        {
          "output_type": "display_data",
          "data": {
            "image/png": "[encoded data removed]",
            "text/plain": [
              "<Figure size 480x360 with 1 Axes>"
            ]
          },
          "metadata": {
            "tags": []
          }
        }
      ]
    },
    {
      "cell_type": "code",
      "metadata": {
        "id": "69RcHsbskZS3",
        "colab_type": "code",
        "colab": {}
      },
      "source": [
        ""
      ],
      "execution_count": 0,
      "outputs": []
    },
    {
      "cell_type": "markdown",
      "metadata": {
        "id": "vE7oRHtGk2_r",
        "colab_type": "text"
      },
      "source": [
        "**Histograms**\n",
        "\n",
        "It help to understand the distribution of a numeric value in a way that you cannot with mean or median alone"
      ]
    },
    {
      "cell_type": "code",
      "metadata": {
        "id": "v_Sd2PLtlBm4",
        "colab_type": "code",
        "colab": {
          "base_uri": "https://localhost:8080/",
          "height": 265
        },
        "outputId": "d5924d25-0498-47ba-b201-a459a7e11a38"
      },
      "source": [
        "a = np.random.randn(1000)\n",
        "plt.hist(a);"
      ],
      "execution_count": 41,
      "outputs": [
        {
          "output_type": "display_data",
          "data": {
            "image/png": "[encoded data removed]",
            "text/plain": [
              "<Figure size 432x288 with 1 Axes>"
            ]
          },
          "metadata": {
            "tags": []
          }
        }
      ]
    },
    {
      "cell_type": "code",
      "metadata": {
        "id": "y5XP3X9blllH",
        "colab_type": "code",
        "colab": {}
      },
      "source": [
        "import datetime\n",
        "import numpy as np\n",
        "from pandas.plotting import register_matplotlib_converters\n",
        "register_matplotlib_converters()"
      ],
      "execution_count": 0,
      "outputs": []
    },
    {
      "cell_type": "code",
      "metadata": {
        "id": "zpPd_YR-lvZR",
        "colab_type": "code",
        "colab": {
          "base_uri": "https://localhost:8080/",
          "height": 265
        },
        "outputId": "a7f3da5d-8d10-49fa-dde3-29dba810a69a"
      },
      "source": [
        "x = np.array([datetime.datetime(2020, 3, 5, i, 0) for i in range (24)])\n",
        "y = np.random.randint(100, size=x.shape)\n",
        "\n",
        "plt.plot(x,y)\n",
        "plt.show()"
      ],
      "execution_count": 50,
      "outputs": [
        {
          "output_type": "display_data",
          "data": {
            "image/png": "[encoded data removed]",
            "text/plain": [
              "<Figure size 432x288 with 1 Axes>"
            ]
          },
          "metadata": {
            "tags": []
          }
        }
      ]
    },
    {
      "cell_type": "code",
      "metadata": {
        "id": "8BJQi4G1mcGC",
        "colab_type": "code",
        "colab": {
          "base_uri": "https://localhost:8080/",
          "height": 282
        },
        "outputId": "59f36601-6b9d-474f-8b41-8ff9f9946eed"
      },
      "source": [
        "#Scatter Plots\n",
        "fig,ax = plt.subplots()\n",
        "x = np.linspace(-1,1,50)\n",
        "y = np.random.randn(50)\n",
        "ax.scatter(x,y)"
      ],
      "execution_count": 52,
      "outputs": [
        {
          "output_type": "execute_result",
          "data": {
            "text/plain": [
              "<matplotlib.collections.PathCollection at 0x7fab84750198>"
            ]
          },
          "metadata": {
            "tags": []
          },
          "execution_count": 52
        },
        {
          "output_type": "display_data",
          "data": {
            "image/png": "[encoded data removed]",
            "text/plain": [
              "<Figure size 432x288 with 1 Axes>"
            ]
          },
          "metadata": {
            "tags": []
          }
        }
      ]
    },
    {
      "cell_type": "code",
      "metadata": {
        "id": "RyeE61cb1N5p",
        "colab_type": "code",
        "colab": {}
      },
      "source": [
        "import pandas as pd"
      ],
      "execution_count": 0,
      "outputs": []
    },
    {
      "cell_type": "code",
      "metadata": {
        "id": "-cnoZkbXvl_V",
        "colab_type": "code",
        "colab": {
          "base_uri": "https://localhost:8080/",
          "height": 279
        },
        "outputId": "cde151ae-dfab-4391-b237-750b81347ab4"
      },
      "source": [
        "#Bar Graph\n",
        "\n",
        "df1 = pd.DataFrame(np.random.rand(10,4), columns=['a', 'b', 'c', 'd'])\n",
        "\n",
        "df1.plot.bar()\n"
      ],
      "execution_count": 55,
      "outputs": [
        {
          "output_type": "execute_result",
          "data": {
            "text/plain": [
              "<matplotlib.axes._subplots.AxesSubplot at 0x7fab87103c50>"
            ]
          },
          "metadata": {
            "tags": []
          },
          "execution_count": 55
        },
        {
          "output_type": "display_data",
          "data": {
            "image/png": "[encoded data removed]",
            "text/plain": [
              "<Figure size 432x288 with 1 Axes>"
            ]
          },
          "metadata": {
            "tags": []
          }
        }
      ]
    },
    {
      "cell_type": "markdown",
      "metadata": {
        "id": "zfLsx3qu4Gs_",
        "colab_type": "text"
      },
      "source": [
        "**Visualization Using Dataset**"
      ]
    },
    {
      "cell_type": "code",
      "metadata": {
        "id": "qfVfSVEc4Tcw",
        "colab_type": "code",
        "colab": {
          "resources": {
            "http://localhost:8080/nbextensions/google.colab/files.js": {
              "data": "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",
              "ok": true,
              "headers": [
                [
                  "content-type",
                  "application/javascript"
                ]
              ],
              "status": 200,
              "status_text": ""
            }
          },
          "base_uri": "https://localhost:8080/",
          "height": 74
        },
        "outputId": "b2f36ee1-c5b5-4831-fa5e-0fdf9c5489de"
      },
      "source": [
        "# Link to Dataset http://paldhous.github.io/ucb/2016/dataviz/datasets.html\n",
        "# Download Week3\n",
        "from google.colab import files\n",
        "uploaded=files.upload()"
      ],
      "execution_count": 56,
      "outputs": [
        {
          "output_type": "display_data",
          "data": {
            "text/html": [
              "\n",
              "     <input type=\"file\" id=\"files-5b24e626-8773-4902-8b9e-1158910f1d41\" name=\"files[]\" multiple disabled />\n",
              "     <output id=\"result-5b24e626-8773-4902-8b9e-1158910f1d41\">\n",
              "      Upload widget is only available when the cell has been executed in the\n",
              "      current browser session. Please rerun this cell to enable.\n",
              "      </output>\n",
              "      <script src=\"/nbextensions/google.colab/files.js\"></script> "
            ],
            "text/plain": [
              "<IPython.core.display.HTML object>"
            ]
          },
          "metadata": {
            "tags": []
          }
        },
        {
          "output_type": "stream",
          "text": [
            "Saving nations.csv to nations.csv\n"
          ],
          "name": "stdout"
        }
      ]
    },
    {
      "cell_type": "code",
      "metadata": {
        "id": "tn3qfF8t4ckf",
        "colab_type": "code",
        "colab": {}
      },
      "source": [
        "import io\n",
        "\n",
        "data = pd.read_csv(io.BytesIO(uploaded['nations.csv']))\n",
        "\n",
        "#Dataset stored in Pandas DataFrame"
      ],
      "execution_count": 0,
      "outputs": []
    },
    {
      "cell_type": "code",
      "metadata": {
        "id": "TYn2dU3b5IGR",
        "colab_type": "code",
        "colab": {
          "base_uri": "https://localhost:8080/",
          "height": 204
        },
        "outputId": "ec949fc8-6979-4c0f-caea-6c8f0bf94b04"
      },
      "source": [
        "data.head()"
      ],
      "execution_count": 58,
      "outputs": [
        {
          "output_type": "execute_result",
          "data": {
            "text/html": [
              "<div>\n",
              "<style scoped>\n",
              "    .dataframe tbody tr th:only-of-type {\n",
              "        vertical-align: middle;\n",
              "    }\n",
              "\n",
              "    .dataframe tbody tr th {\n",
              "        vertical-align: top;\n",
              "    }\n",
              "\n",
              "    .dataframe thead th {\n",
              "        text-align: right;\n",
              "    }\n",
              "</style>\n",
              "<table border=\"1\" class=\"dataframe\">\n",
              "  <thead>\n",
              "    <tr style=\"text-align: right;\">\n",
              "      <th></th>\n",
              "      <th>iso2c</th>\n",
              "      <th>iso3c</th>\n",
              "      <th>country</th>\n",
              "      <th>year</th>\n",
              "      <th>gdp_percap</th>\n",
              "      <th>life_expect</th>\n",
              "      <th>population</th>\n",
              "      <th>birth_rate</th>\n",
              "      <th>neonat_mortal_rate</th>\n",
              "      <th>region</th>\n",
              "      <th>income</th>\n",
              "    </tr>\n",
              "  </thead>\n",
              "  <tbody>\n",
              "    <tr>\n",
              "      <th>0</th>\n",
              "      <td>AD</td>\n",
              "      <td>AND</td>\n",
              "      <td>Andorra</td>\n",
              "      <td>1996</td>\n",
              "      <td>NaN</td>\n",
              "      <td>NaN</td>\n",
              "      <td>64291.0</td>\n",
              "      <td>10.9</td>\n",
              "      <td>2.8</td>\n",
              "      <td>Europe &amp; Central Asia</td>\n",
              "      <td>High income</td>\n",
              "    </tr>\n",
              "    <tr>\n",
              "      <th>1</th>\n",
              "      <td>AD</td>\n",
              "      <td>AND</td>\n",
              "      <td>Andorra</td>\n",
              "      <td>1994</td>\n",
              "      <td>NaN</td>\n",
              "      <td>NaN</td>\n",
              "      <td>62707.0</td>\n",
              "      <td>10.9</td>\n",
              "      <td>3.2</td>\n",
              "      <td>Europe &amp; Central Asia</td>\n",
              "      <td>High income</td>\n",
              "    </tr>\n",
              "    <tr>\n",
              "      <th>2</th>\n",
              "      <td>AD</td>\n",
              "      <td>AND</td>\n",
              "      <td>Andorra</td>\n",
              "      <td>2003</td>\n",
              "      <td>NaN</td>\n",
              "      <td>NaN</td>\n",
              "      <td>74783.0</td>\n",
              "      <td>10.3</td>\n",
              "      <td>2.0</td>\n",
              "      <td>Europe &amp; Central Asia</td>\n",
              "      <td>High income</td>\n",
              "    </tr>\n",
              "    <tr>\n",
              "      <th>3</th>\n",
              "      <td>AD</td>\n",
              "      <td>AND</td>\n",
              "      <td>Andorra</td>\n",
              "      <td>1990</td>\n",
              "      <td>NaN</td>\n",
              "      <td>NaN</td>\n",
              "      <td>54511.0</td>\n",
              "      <td>11.9</td>\n",
              "      <td>4.3</td>\n",
              "      <td>Europe &amp; Central Asia</td>\n",
              "      <td>High income</td>\n",
              "    </tr>\n",
              "    <tr>\n",
              "      <th>4</th>\n",
              "      <td>AD</td>\n",
              "      <td>AND</td>\n",
              "      <td>Andorra</td>\n",
              "      <td>2009</td>\n",
              "      <td>NaN</td>\n",
              "      <td>NaN</td>\n",
              "      <td>85474.0</td>\n",
              "      <td>9.9</td>\n",
              "      <td>1.7</td>\n",
              "      <td>Europe &amp; Central Asia</td>\n",
              "      <td>High income</td>\n",
              "    </tr>\n",
              "  </tbody>\n",
              "</table>\n",
              "</div>"
            ],
            "text/plain": [
              "  iso2c iso3c  country  ...  neonat_mortal_rate                 region       income\n",
              "0    AD   AND  Andorra  ...                 2.8  Europe & Central Asia  High income\n",
              "1    AD   AND  Andorra  ...                 3.2  Europe & Central Asia  High income\n",
              "2    AD   AND  Andorra  ...                 2.0  Europe & Central Asia  High income\n",
              "3    AD   AND  Andorra  ...                 4.3  Europe & Central Asia  High income\n",
              "4    AD   AND  Andorra  ...                 1.7  Europe & Central Asia  High income\n",
              "\n",
              "[5 rows x 11 columns]"
            ]
          },
          "metadata": {
            "tags": []
          },
          "execution_count": 58
        }
      ]
    },
    {
      "cell_type": "markdown",
      "metadata": {
        "id": "V-E5sw6e9KAj",
        "colab_type": "text"
      },
      "source": [
        "**gdp_percap column contains missing value. Replace it with median value of the column**"
      ]
    },
    {
      "cell_type": "code",
      "metadata": {
        "id": "Ckr2yADd9Yof",
        "colab_type": "code",
        "colab": {
          "base_uri": "https://localhost:8080/",
          "height": 204
        },
        "outputId": "4831f3b3-0d17-4d17-fb1b-3f8a6432c4d9"
      },
      "source": [
        "data['gdp_percap'].fillna(data['gdp_percap'].median(), inplace=True)\n",
        "data.head(5)"
      ],
      "execution_count": 60,
      "outputs": [
        {
          "output_type": "execute_result",
          "data": {
            "text/html": [
              "<div>\n",
              "<style scoped>\n",
              "    .dataframe tbody tr th:only-of-type {\n",
              "        vertical-align: middle;\n",
              "    }\n",
              "\n",
              "    .dataframe tbody tr th {\n",
              "        vertical-align: top;\n",
              "    }\n",
              "\n",
              "    .dataframe thead th {\n",
              "        text-align: right;\n",
              "    }\n",
              "</style>\n",
              "<table border=\"1\" class=\"dataframe\">\n",
              "  <thead>\n",
              "    <tr style=\"text-align: right;\">\n",
              "      <th></th>\n",
              "      <th>iso2c</th>\n",
              "      <th>iso3c</th>\n",
              "      <th>country</th>\n",
              "      <th>year</th>\n",
              "      <th>gdp_percap</th>\n",
              "      <th>life_expect</th>\n",
              "      <th>population</th>\n",
              "      <th>birth_rate</th>\n",
              "      <th>neonat_mortal_rate</th>\n",
              "      <th>region</th>\n",
              "      <th>income</th>\n",
              "    </tr>\n",
              "  </thead>\n",
              "  <tbody>\n",
              "    <tr>\n",
              "      <th>0</th>\n",
              "      <td>AD</td>\n",
              "      <td>AND</td>\n",
              "      <td>Andorra</td>\n",
              "      <td>1996</td>\n",
              "      <td>6563.171063</td>\n",
              "      <td>NaN</td>\n",
              "      <td>64291.0</td>\n",
              "      <td>10.9</td>\n",
              "      <td>2.8</td>\n",
              "      <td>Europe &amp; Central Asia</td>\n",
              "      <td>High income</td>\n",
              "    </tr>\n",
              "    <tr>\n",
              "      <th>1</th>\n",
              "      <td>AD</td>\n",
              "      <td>AND</td>\n",
              "      <td>Andorra</td>\n",
              "      <td>1994</td>\n",
              "      <td>6563.171063</td>\n",
              "      <td>NaN</td>\n",
              "      <td>62707.0</td>\n",
              "      <td>10.9</td>\n",
              "      <td>3.2</td>\n",
              "      <td>Europe &amp; Central Asia</td>\n",
              "      <td>High income</td>\n",
              "    </tr>\n",
              "    <tr>\n",
              "      <th>2</th>\n",
              "      <td>AD</td>\n",
              "      <td>AND</td>\n",
              "      <td>Andorra</td>\n",
              "      <td>2003</td>\n",
              "      <td>6563.171063</td>\n",
              "      <td>NaN</td>\n",
              "      <td>74783.0</td>\n",
              "      <td>10.3</td>\n",
              "      <td>2.0</td>\n",
              "      <td>Europe &amp; Central Asia</td>\n",
              "      <td>High income</td>\n",
              "    </tr>\n",
              "    <tr>\n",
              "      <th>3</th>\n",
              "      <td>AD</td>\n",
              "      <td>AND</td>\n",
              "      <td>Andorra</td>\n",
              "      <td>1990</td>\n",
              "      <td>6563.171063</td>\n",
              "      <td>NaN</td>\n",
              "      <td>54511.0</td>\n",
              "      <td>11.9</td>\n",
              "      <td>4.3</td>\n",
              "      <td>Europe &amp; Central Asia</td>\n",
              "      <td>High income</td>\n",
              "    </tr>\n",
              "    <tr>\n",
              "      <th>4</th>\n",
              "      <td>AD</td>\n",
              "      <td>AND</td>\n",
              "      <td>Andorra</td>\n",
              "      <td>2009</td>\n",
              "      <td>6563.171063</td>\n",
              "      <td>NaN</td>\n",
              "      <td>85474.0</td>\n",
              "      <td>9.9</td>\n",
              "      <td>1.7</td>\n",
              "      <td>Europe &amp; Central Asia</td>\n",
              "      <td>High income</td>\n",
              "    </tr>\n",
              "  </tbody>\n",
              "</table>\n",
              "</div>"
            ],
            "text/plain": [
              "  iso2c iso3c  country  ...  neonat_mortal_rate                 region       income\n",
              "0    AD   AND  Andorra  ...                 2.8  Europe & Central Asia  High income\n",
              "1    AD   AND  Andorra  ...                 3.2  Europe & Central Asia  High income\n",
              "2    AD   AND  Andorra  ...                 2.0  Europe & Central Asia  High income\n",
              "3    AD   AND  Andorra  ...                 4.3  Europe & Central Asia  High income\n",
              "4    AD   AND  Andorra  ...                 1.7  Europe & Central Asia  High income\n",
              "\n",
              "[5 rows x 11 columns]"
            ]
          },
          "metadata": {
            "tags": []
          },
          "execution_count": 60
        }
      ]
    },
    {
      "cell_type": "code",
      "metadata": {
        "id": "eQG3RNcO9nyo",
        "colab_type": "code",
        "colab": {
          "base_uri": "https://localhost:8080/",
          "height": 450
        },
        "outputId": "5a521466-c362-477f-a1f7-0c33f4851bde"
      },
      "source": [
        "data.groupby(['country']).mean()"
      ],
      "execution_count": 61,
      "outputs": [
        {
          "output_type": "execute_result",
          "data": {
            "text/html": [
              "<div>\n",
              "<style scoped>\n",
              "    .dataframe tbody tr th:only-of-type {\n",
              "        vertical-align: middle;\n",
              "    }\n",
              "\n",
              "    .dataframe tbody tr th {\n",
              "        vertical-align: top;\n",
              "    }\n",
              "\n",
              "    .dataframe thead th {\n",
              "        text-align: right;\n",
              "    }\n",
              "</style>\n",
              "<table border=\"1\" class=\"dataframe\">\n",
              "  <thead>\n",
              "    <tr style=\"text-align: right;\">\n",
              "      <th></th>\n",
              "      <th>year</th>\n",
              "      <th>gdp_percap</th>\n",
              "      <th>life_expect</th>\n",
              "      <th>population</th>\n",
              "      <th>birth_rate</th>\n",
              "      <th>neonat_mortal_rate</th>\n",
              "    </tr>\n",
              "    <tr>\n",
              "      <th>country</th>\n",
              "      <th></th>\n",
              "      <th></th>\n",
              "      <th></th>\n",
              "      <th></th>\n",
              "      <th></th>\n",
              "      <th></th>\n",
              "    </tr>\n",
              "  </thead>\n",
              "  <tbody>\n",
              "    <tr>\n",
              "      <th>Afghanistan</th>\n",
              "      <td>2002</td>\n",
              "      <td>3875.455615</td>\n",
              "      <td>55.730645</td>\n",
              "      <td>21794719.32</td>\n",
              "      <td>44.828320</td>\n",
              "      <td>43.896</td>\n",
              "    </tr>\n",
              "    <tr>\n",
              "      <th>Albania</th>\n",
              "      <td>2002</td>\n",
              "      <td>5641.509114</td>\n",
              "      <td>74.782879</td>\n",
              "      <td>3064024.12</td>\n",
              "      <td>16.351120</td>\n",
              "      <td>10.300</td>\n",
              "    </tr>\n",
              "    <tr>\n",
              "      <th>Algeria</th>\n",
              "      <td>2002</td>\n",
              "      <td>9608.372262</td>\n",
              "      <td>70.871015</td>\n",
              "      <td>32155381.56</td>\n",
              "      <td>23.690920</td>\n",
              "      <td>19.592</td>\n",
              "    </tr>\n",
              "    <tr>\n",
              "      <th>American Samoa</th>\n",
              "      <td>2002</td>\n",
              "      <td>6563.171063</td>\n",
              "      <td>NaN</td>\n",
              "      <td>55224.32</td>\n",
              "      <td>20.150000</td>\n",
              "      <td>NaN</td>\n",
              "    </tr>\n",
              "    <tr>\n",
              "      <th>Andorra</th>\n",
              "      <td>2002</td>\n",
              "      <td>6563.171063</td>\n",
              "      <td>NaN</td>\n",
              "      <td>71471.52</td>\n",
              "      <td>11.013636</td>\n",
              "      <td>2.364</td>\n",
              "    </tr>\n",
              "    <tr>\n",
              "      <th>...</th>\n",
              "      <td>...</td>\n",
              "      <td>...</td>\n",
              "      <td>...</td>\n",
              "      <td>...</td>\n",
              "      <td>...</td>\n",
              "      <td>...</td>\n",
              "    </tr>\n",
              "    <tr>\n",
              "      <th>Virgin Islands (U.S.)</th>\n",
              "      <td>2002</td>\n",
              "      <td>6563.171063</td>\n",
              "      <td>77.669382</td>\n",
              "      <td>106962.24</td>\n",
              "      <td>15.346800</td>\n",
              "      <td>NaN</td>\n",
              "    </tr>\n",
              "    <tr>\n",
              "      <th>West Bank and Gaza</th>\n",
              "      <td>2002</td>\n",
              "      <td>3993.824644</td>\n",
              "      <td>70.838780</td>\n",
              "      <td>3095604.68</td>\n",
              "      <td>39.032080</td>\n",
              "      <td>16.280</td>\n",
              "    </tr>\n",
              "    <tr>\n",
              "      <th>Yemen, Rep.</th>\n",
              "      <td>2002</td>\n",
              "      <td>3374.812254</td>\n",
              "      <td>60.859683</td>\n",
              "      <td>19007433.12</td>\n",
              "      <td>40.061400</td>\n",
              "      <td>34.316</td>\n",
              "    </tr>\n",
              "    <tr>\n",
              "      <th>Zambia</th>\n",
              "      <td>2002</td>\n",
              "      <td>2193.173278</td>\n",
              "      <td>48.324932</td>\n",
              "      <td>11411855.72</td>\n",
              "      <td>43.665360</td>\n",
              "      <td>30.448</td>\n",
              "    </tr>\n",
              "    <tr>\n",
              "      <th>Zimbabwe</th>\n",
              "      <td>2002</td>\n",
              "      <td>1678.366272</td>\n",
              "      <td>48.317740</td>\n",
              "      <td>12729007.48</td>\n",
              "      <td>34.754120</td>\n",
              "      <td>22.444</td>\n",
              "    </tr>\n",
              "  </tbody>\n",
              "</table>\n",
              "<p>211 rows × 6 columns</p>\n",
              "</div>"
            ],
            "text/plain": [
              "                       year   gdp_percap  ...  birth_rate  neonat_mortal_rate\n",
              "country                                   ...                                \n",
              "Afghanistan            2002  3875.455615  ...   44.828320              43.896\n",
              "Albania                2002  5641.509114  ...   16.351120              10.300\n",
              "Algeria                2002  9608.372262  ...   23.690920              19.592\n",
              "American Samoa         2002  6563.171063  ...   20.150000                 NaN\n",
              "Andorra                2002  6563.171063  ...   11.013636               2.364\n",
              "...                     ...          ...  ...         ...                 ...\n",
              "Virgin Islands (U.S.)  2002  6563.171063  ...   15.346800                 NaN\n",
              "West Bank and Gaza     2002  3993.824644  ...   39.032080              16.280\n",
              "Yemen, Rep.            2002  3374.812254  ...   40.061400              34.316\n",
              "Zambia                 2002  2193.173278  ...   43.665360              30.448\n",
              "Zimbabwe               2002  1678.366272  ...   34.754120              22.444\n",
              "\n",
              "[211 rows x 6 columns]"
            ]
          },
          "metadata": {
            "tags": []
          },
          "execution_count": 61
        }
      ]
    },
    {
      "cell_type": "code",
      "metadata": {
        "id": "MeaOB_Fs-Aro",
        "colab_type": "code",
        "colab": {
          "base_uri": "https://localhost:8080/",
          "height": 238
        },
        "outputId": "7824c4e2-e69b-45e0-d004-f1ae907e2216"
      },
      "source": [
        "# find Average GDP\n",
        "average_gdp = data.groupby(['country']).mean()['gdp_percap']\n",
        "average_gdp"
      ],
      "execution_count": 63,
      "outputs": [
        {
          "output_type": "execute_result",
          "data": {
            "text/plain": [
              "country\n",
              "Afghanistan              3875.455615\n",
              "Albania                  5641.509114\n",
              "Algeria                  9608.372262\n",
              "American Samoa           6563.171063\n",
              "Andorra                  6563.171063\n",
              "                            ...     \n",
              "Virgin Islands (U.S.)    6563.171063\n",
              "West Bank and Gaza       3993.824644\n",
              "Yemen, Rep.              3374.812254\n",
              "Zambia                   2193.173278\n",
              "Zimbabwe                 1678.366272\n",
              "Name: gdp_percap, Length: 211, dtype: float64"
            ]
          },
          "metadata": {
            "tags": []
          },
          "execution_count": 63
        }
      ]
    },
    {
      "cell_type": "code",
      "metadata": {
        "id": "Rr1H4VkH-t7J",
        "colab_type": "code",
        "colab": {
          "base_uri": "https://localhost:8080/",
          "height": 136
        },
        "outputId": "2b5d3129-78d8-4779-8f0b-e620b08663be"
      },
      "source": [
        "# Top 5 country with highest GDP\n",
        "\n",
        "top_five = average_gdp.sort_values(ascending=False).head()\n",
        "top_five"
      ],
      "execution_count": 65,
      "outputs": [
        {
          "output_type": "execute_result",
          "data": {
            "text/plain": [
              "country\n",
              "United Arab Emirates    74738.442986\n",
              "Qatar                   70772.168796\n",
              "Brunei Darussalam       63116.905041\n",
              "Luxembourg              62343.738409\n",
              "Kuwait                  58301.181985\n",
              "Name: gdp_percap, dtype: float64"
            ]
          },
          "metadata": {
            "tags": []
          },
          "execution_count": 65
        }
      ]
    },
    {
      "cell_type": "code",
      "metadata": {
        "id": "QIuQLdjC_Cdi",
        "colab_type": "code",
        "colab": {
          "base_uri": "https://localhost:8080/",
          "height": 824
        },
        "outputId": "0a895b4b-e347-4424-dc05-46ae3d7cf67d"
      },
      "source": [
        "# Above its visualize that United Arab Emirates have more GDP but further analyze with respect to per person\n",
        "\n",
        "UAE = data[data['country'] == 'United Arab Emirates']\n",
        "UAE"
      ],
      "execution_count": 66,
      "outputs": [
        {
          "output_type": "execute_result",
          "data": {
            "text/html": [
              "<div>\n",
              "<style scoped>\n",
              "    .dataframe tbody tr th:only-of-type {\n",
              "        vertical-align: middle;\n",
              "    }\n",
              "\n",
              "    .dataframe tbody tr th {\n",
              "        vertical-align: top;\n",
              "    }\n",
              "\n",
              "    .dataframe thead th {\n",
              "        text-align: right;\n",
              "    }\n",
              "</style>\n",
              "<table border=\"1\" class=\"dataframe\">\n",
              "  <thead>\n",
              "    <tr style=\"text-align: right;\">\n",
              "      <th></th>\n",
              "      <th>iso2c</th>\n",
              "      <th>iso3c</th>\n",
              "      <th>country</th>\n",
              "      <th>year</th>\n",
              "      <th>gdp_percap</th>\n",
              "      <th>life_expect</th>\n",
              "      <th>population</th>\n",
              "      <th>birth_rate</th>\n",
              "      <th>neonat_mortal_rate</th>\n",
              "      <th>region</th>\n",
              "      <th>income</th>\n",
              "    </tr>\n",
              "  </thead>\n",
              "  <tbody>\n",
              "    <tr>\n",
              "      <th>25</th>\n",
              "      <td>AE</td>\n",
              "      <td>ARE</td>\n",
              "      <td>United Arab Emirates</td>\n",
              "      <td>1991</td>\n",
              "      <td>73036.996606</td>\n",
              "      <td>72.012293</td>\n",
              "      <td>1913190.0</td>\n",
              "      <td>24.649</td>\n",
              "      <td>7.9</td>\n",
              "      <td>Middle East &amp; North Africa</td>\n",
              "      <td>High income</td>\n",
              "    </tr>\n",
              "    <tr>\n",
              "      <th>26</th>\n",
              "      <td>AE</td>\n",
              "      <td>ARE</td>\n",
              "      <td>United Arab Emirates</td>\n",
              "      <td>1993</td>\n",
              "      <td>71959.877867</td>\n",
              "      <td>72.573024</td>\n",
              "      <td>2127863.0</td>\n",
              "      <td>22.360</td>\n",
              "      <td>7.3</td>\n",
              "      <td>Middle East &amp; North Africa</td>\n",
              "      <td>High income</td>\n",
              "    </tr>\n",
              "    <tr>\n",
              "      <th>27</th>\n",
              "      <td>AE</td>\n",
              "      <td>ARE</td>\n",
              "      <td>United Arab Emirates</td>\n",
              "      <td>2001</td>\n",
              "      <td>83533.555216</td>\n",
              "      <td>74.712878</td>\n",
              "      <td>3217865.0</td>\n",
              "      <td>15.829</td>\n",
              "      <td>5.5</td>\n",
              "      <td>Middle East &amp; North Africa</td>\n",
              "      <td>High income</td>\n",
              "    </tr>\n",
              "    <tr>\n",
              "      <th>28</th>\n",
              "      <td>AE</td>\n",
              "      <td>ARE</td>\n",
              "      <td>United Arab Emirates</td>\n",
              "      <td>1992</td>\n",
              "      <td>73154.277741</td>\n",
              "      <td>72.296415</td>\n",
              "      <td>2019014.0</td>\n",
              "      <td>23.501</td>\n",
              "      <td>7.6</td>\n",
              "      <td>Middle East &amp; North Africa</td>\n",
              "      <td>High income</td>\n",
              "    </tr>\n",
              "    <tr>\n",
              "      <th>29</th>\n",
              "      <td>AE</td>\n",
              "      <td>ARE</td>\n",
              "      <td>United Arab Emirates</td>\n",
              "      <td>1994</td>\n",
              "      <td>74683.888594</td>\n",
              "      <td>72.845585</td>\n",
              "      <td>2238281.0</td>\n",
              "      <td>21.263</td>\n",
              "      <td>6.9</td>\n",
              "      <td>Middle East &amp; North Africa</td>\n",
              "      <td>High income</td>\n",
              "    </tr>\n",
              "    <tr>\n",
              "      <th>30</th>\n",
              "      <td>AE</td>\n",
              "      <td>ARE</td>\n",
              "      <td>United Arab Emirates</td>\n",
              "      <td>2007</td>\n",
              "      <td>75426.793513</td>\n",
              "      <td>76.111171</td>\n",
              "      <td>6010100.0</td>\n",
              "      <td>12.814</td>\n",
              "      <td>4.7</td>\n",
              "      <td>Middle East &amp; North Africa</td>\n",
              "      <td>High income</td>\n",
              "    </tr>\n",
              "    <tr>\n",
              "      <th>31</th>\n",
              "      <td>AE</td>\n",
              "      <td>ARE</td>\n",
              "      <td>United Arab Emirates</td>\n",
              "      <td>2004</td>\n",
              "      <td>87843.708107</td>\n",
              "      <td>75.457268</td>\n",
              "      <td>3975945.0</td>\n",
              "      <td>14.240</td>\n",
              "      <td>5.1</td>\n",
              "      <td>Middle East &amp; North Africa</td>\n",
              "      <td>High income</td>\n",
              "    </tr>\n",
              "    <tr>\n",
              "      <th>32</th>\n",
              "      <td>AE</td>\n",
              "      <td>ARE</td>\n",
              "      <td>United Arab Emirates</td>\n",
              "      <td>1996</td>\n",
              "      <td>79480.467479</td>\n",
              "      <td>73.383927</td>\n",
              "      <td>2467726.0</td>\n",
              "      <td>19.309</td>\n",
              "      <td>6.4</td>\n",
              "      <td>Middle East &amp; North Africa</td>\n",
              "      <td>High income</td>\n",
              "    </tr>\n",
              "    <tr>\n",
              "      <th>33</th>\n",
              "      <td>AE</td>\n",
              "      <td>ARE</td>\n",
              "      <td>United Arab Emirates</td>\n",
              "      <td>2006</td>\n",
              "      <td>82754.281976</td>\n",
              "      <td>75.904537</td>\n",
              "      <td>5171255.0</td>\n",
              "      <td>13.255</td>\n",
              "      <td>4.9</td>\n",
              "      <td>Middle East &amp; North Africa</td>\n",
              "      <td>High income</td>\n",
              "    </tr>\n",
              "    <tr>\n",
              "      <th>34</th>\n",
              "      <td>AE</td>\n",
              "      <td>ARE</td>\n",
              "      <td>United Arab Emirates</td>\n",
              "      <td>2000</td>\n",
              "      <td>84974.894091</td>\n",
              "      <td>74.451537</td>\n",
              "      <td>3050128.0</td>\n",
              "      <td>16.399</td>\n",
              "      <td>5.6</td>\n",
              "      <td>Middle East &amp; North Africa</td>\n",
              "      <td>High income</td>\n",
              "    </tr>\n",
              "    <tr>\n",
              "      <th>35</th>\n",
              "      <td>AE</td>\n",
              "      <td>ARE</td>\n",
              "      <td>United Arab Emirates</td>\n",
              "      <td>1999</td>\n",
              "      <td>79262.386452</td>\n",
              "      <td>74.187171</td>\n",
              "      <td>2884188.0</td>\n",
              "      <td>17.018</td>\n",
              "      <td>5.8</td>\n",
              "      <td>Middle East &amp; North Africa</td>\n",
              "      <td>High income</td>\n",
              "    </tr>\n",
              "    <tr>\n",
              "      <th>36</th>\n",
              "      <td>AE</td>\n",
              "      <td>ARE</td>\n",
              "      <td>United Arab Emirates</td>\n",
              "      <td>1990</td>\n",
              "      <td>74017.300650</td>\n",
              "      <td>71.720146</td>\n",
              "      <td>1811458.0</td>\n",
              "      <td>25.768</td>\n",
              "      <td>8.2</td>\n",
              "      <td>Middle East &amp; North Africa</td>\n",
              "      <td>High income</td>\n",
              "    </tr>\n",
              "    <tr>\n",
              "      <th>37</th>\n",
              "      <td>AE</td>\n",
              "      <td>ARE</td>\n",
              "      <td>United Arab Emirates</td>\n",
              "      <td>1997</td>\n",
              "      <td>83165.263147</td>\n",
              "      <td>73.652659</td>\n",
              "      <td>2595220.0</td>\n",
              "      <td>18.466</td>\n",
              "      <td>6.2</td>\n",
              "      <td>Middle East &amp; North Africa</td>\n",
              "      <td>High income</td>\n",
              "    </tr>\n",
              "    <tr>\n",
              "      <th>38</th>\n",
              "      <td>AE</td>\n",
              "      <td>ARE</td>\n",
              "      <td>United Arab Emirates</td>\n",
              "      <td>2005</td>\n",
              "      <td>84338.359407</td>\n",
              "      <td>75.686390</td>\n",
              "      <td>4481976.0</td>\n",
              "      <td>13.735</td>\n",
              "      <td>5.0</td>\n",
              "      <td>Middle East &amp; North Africa</td>\n",
              "      <td>High income</td>\n",
              "    </tr>\n",
              "    <tr>\n",
              "      <th>39</th>\n",
              "      <td>AE</td>\n",
              "      <td>ARE</td>\n",
              "      <td>United Arab Emirates</td>\n",
              "      <td>1998</td>\n",
              "      <td>80040.216703</td>\n",
              "      <td>73.920220</td>\n",
              "      <td>2733770.0</td>\n",
              "      <td>17.703</td>\n",
              "      <td>6.0</td>\n",
              "      <td>Middle East &amp; North Africa</td>\n",
              "      <td>High income</td>\n",
              "    </tr>\n",
              "    <tr>\n",
              "      <th>40</th>\n",
              "      <td>AE</td>\n",
              "      <td>ARE</td>\n",
              "      <td>United Arab Emirates</td>\n",
              "      <td>2008</td>\n",
              "      <td>69124.396211</td>\n",
              "      <td>76.307756</td>\n",
              "      <td>6900142.0</td>\n",
              "      <td>12.423</td>\n",
              "      <td>4.6</td>\n",
              "      <td>Middle East &amp; North Africa</td>\n",
              "      <td>High income</td>\n",
              "    </tr>\n",
              "    <tr>\n",
              "      <th>41</th>\n",
              "      <td>AE</td>\n",
              "      <td>ARE</td>\n",
              "      <td>United Arab Emirates</td>\n",
              "      <td>2012</td>\n",
              "      <td>61172.994788</td>\n",
              "      <td>77.024146</td>\n",
              "      <td>8952542.0</td>\n",
              "      <td>11.273</td>\n",
              "      <td>4.0</td>\n",
              "      <td>Middle East &amp; North Africa</td>\n",
              "      <td>High income</td>\n",
              "    </tr>\n",
              "    <tr>\n",
              "      <th>42</th>\n",
              "      <td>AE</td>\n",
              "      <td>ARE</td>\n",
              "      <td>United Arab Emirates</td>\n",
              "      <td>2011</td>\n",
              "      <td>57594.126683</td>\n",
              "      <td>76.851195</td>\n",
              "      <td>8734722.0</td>\n",
              "      <td>11.514</td>\n",
              "      <td>4.1</td>\n",
              "      <td>Middle East &amp; North Africa</td>\n",
              "      <td>High income</td>\n",
              "    </tr>\n",
              "    <tr>\n",
              "      <th>43</th>\n",
              "      <td>AE</td>\n",
              "      <td>ARE</td>\n",
              "      <td>United Arab Emirates</td>\n",
              "      <td>2009</td>\n",
              "      <td>59100.380538</td>\n",
              "      <td>76.494780</td>\n",
              "      <td>7705423.0</td>\n",
              "      <td>12.079</td>\n",
              "      <td>4.5</td>\n",
              "      <td>Middle East &amp; North Africa</td>\n",
              "      <td>High income</td>\n",
              "    </tr>\n",
              "    <tr>\n",
              "      <th>44</th>\n",
              "      <td>AE</td>\n",
              "      <td>ARE</td>\n",
              "      <td>United Arab Emirates</td>\n",
              "      <td>1995</td>\n",
              "      <td>77467.244845</td>\n",
              "      <td>73.115073</td>\n",
              "      <td>2350192.0</td>\n",
              "      <td>20.239</td>\n",
              "      <td>6.6</td>\n",
              "      <td>Middle East &amp; North Africa</td>\n",
              "      <td>High income</td>\n",
              "    </tr>\n",
              "    <tr>\n",
              "      <th>45</th>\n",
              "      <td>AE</td>\n",
              "      <td>ARE</td>\n",
              "      <td>United Arab Emirates</td>\n",
              "      <td>2002</td>\n",
              "      <td>82369.685017</td>\n",
              "      <td>74.968268</td>\n",
              "      <td>3394060.0</td>\n",
              "      <td>15.287</td>\n",
              "      <td>5.4</td>\n",
              "      <td>Middle East &amp; North Africa</td>\n",
              "      <td>High income</td>\n",
              "    </tr>\n",
              "    <tr>\n",
              "      <th>46</th>\n",
              "      <td>AE</td>\n",
              "      <td>ARE</td>\n",
              "      <td>United Arab Emirates</td>\n",
              "      <td>2014</td>\n",
              "      <td>67921.399464</td>\n",
              "      <td>77.368171</td>\n",
              "      <td>9086139.0</td>\n",
              "      <td>10.819</td>\n",
              "      <td>3.6</td>\n",
              "      <td>Middle East &amp; North Africa</td>\n",
              "      <td>High income</td>\n",
              "    </tr>\n",
              "    <tr>\n",
              "      <th>47</th>\n",
              "      <td>AE</td>\n",
              "      <td>ARE</td>\n",
              "      <td>United Arab Emirates</td>\n",
              "      <td>2013</td>\n",
              "      <td>64229.464986</td>\n",
              "      <td>77.195634</td>\n",
              "      <td>9039978.0</td>\n",
              "      <td>11.044</td>\n",
              "      <td>3.8</td>\n",
              "      <td>Middle East &amp; North Africa</td>\n",
              "      <td>High income</td>\n",
              "    </tr>\n",
              "    <tr>\n",
              "      <th>48</th>\n",
              "      <td>AE</td>\n",
              "      <td>ARE</td>\n",
              "      <td>United Arab Emirates</td>\n",
              "      <td>2003</td>\n",
              "      <td>85563.636417</td>\n",
              "      <td>75.217220</td>\n",
              "      <td>3625798.0</td>\n",
              "      <td>14.759</td>\n",
              "      <td>5.2</td>\n",
              "      <td>Middle East &amp; North Africa</td>\n",
              "      <td>High income</td>\n",
              "    </tr>\n",
              "    <tr>\n",
              "      <th>49</th>\n",
              "      <td>AE</td>\n",
              "      <td>ARE</td>\n",
              "      <td>United Arab Emirates</td>\n",
              "      <td>2010</td>\n",
              "      <td>56245.478159</td>\n",
              "      <td>76.675244</td>\n",
              "      <td>8329453.0</td>\n",
              "      <td>11.778</td>\n",
              "      <td>4.3</td>\n",
              "      <td>Middle East &amp; North Africa</td>\n",
              "      <td>High income</td>\n",
              "    </tr>\n",
              "  </tbody>\n",
              "</table>\n",
              "</div>"
            ],
            "text/plain": [
              "   iso2c iso3c  ...                      region       income\n",
              "25    AE   ARE  ...  Middle East & North Africa  High income\n",
              "26    AE   ARE  ...  Middle East & North Africa  High income\n",
              "27    AE   ARE  ...  Middle East & North Africa  High income\n",
              "28    AE   ARE  ...  Middle East & North Africa  High income\n",
              "29    AE   ARE  ...  Middle East & North Africa  High income\n",
              "30    AE   ARE  ...  Middle East & North Africa  High income\n",
              "31    AE   ARE  ...  Middle East & North Africa  High income\n",
              "32    AE   ARE  ...  Middle East & North Africa  High income\n",
              "33    AE   ARE  ...  Middle East & North Africa  High income\n",
              "34    AE   ARE  ...  Middle East & North Africa  High income\n",
              "35    AE   ARE  ...  Middle East & North Africa  High income\n",
              "36    AE   ARE  ...  Middle East & North Africa  High income\n",
              "37    AE   ARE  ...  Middle East & North Africa  High income\n",
              "38    AE   ARE  ...  Middle East & North Africa  High income\n",
              "39    AE   ARE  ...  Middle East & North Africa  High income\n",
              "40    AE   ARE  ...  Middle East & North Africa  High income\n",
              "41    AE   ARE  ...  Middle East & North Africa  High income\n",
              "42    AE   ARE  ...  Middle East & North Africa  High income\n",
              "43    AE   ARE  ...  Middle East & North Africa  High income\n",
              "44    AE   ARE  ...  Middle East & North Africa  High income\n",
              "45    AE   ARE  ...  Middle East & North Africa  High income\n",
              "46    AE   ARE  ...  Middle East & North Africa  High income\n",
              "47    AE   ARE  ...  Middle East & North Africa  High income\n",
              "48    AE   ARE  ...  Middle East & North Africa  High income\n",
              "49    AE   ARE  ...  Middle East & North Africa  High income\n",
              "\n",
              "[25 rows x 11 columns]"
            ]
          },
          "metadata": {
            "tags": []
          },
          "execution_count": 66
        }
      ]
    },
    {
      "cell_type": "code",
      "metadata": {
        "id": "sK90UtnK_7ZL",
        "colab_type": "code",
        "colab": {
          "base_uri": "https://localhost:8080/",
          "height": 312
        },
        "outputId": "3af95977-4be8-4a14-b6d4-8db694ca46c9"
      },
      "source": [
        "#Plot GDP percap of UAE\n",
        "\n",
        "plt.plot(UAE['year'], UAE['gdp_percap'])\n",
        "plt.xlabel('YEAR')\n",
        "plt.ylabel('GDP')\n",
        "plt.title('GDP Per capita of United Arab Emirates')"
      ],
      "execution_count": 68,
      "outputs": [
        {
          "output_type": "execute_result",
          "data": {
            "text/plain": [
              "Text(0.5, 1.0, 'GDP Per capita of United Arab Emirates')"
            ]
          },
          "metadata": {
            "tags": []
          },
          "execution_count": 68
        },
        {
          "output_type": "display_data",
          "data": {
            "image/png": "[encoded data removed]",
            "text/plain": [
              "<Figure size 432x288 with 1 Axes>"
            ]
          },
          "metadata": {
            "tags": []
          }
        }
      ]
    },
    {
      "cell_type": "code",
      "metadata": {
        "id": "5CO0DdTMAVpQ",
        "colab_type": "code",
        "colab": {
          "base_uri": "https://localhost:8080/",
          "height": 312
        },
        "outputId": "4188a454-2545-4105-9b70-aca67dc4ec77"
      },
      "source": [
        "# Above plot is so complex let's Visualize it with more appropriate plot \n",
        "\n",
        "UAE.plot.bar(x='year', y='gdp_percap')"
      ],
      "execution_count": 78,
      "outputs": [
        {
          "output_type": "execute_result",
          "data": {
            "text/plain": [
              "<matplotlib.axes._subplots.AxesSubplot at 0x7fab8417bb00>"
            ]
          },
          "metadata": {
            "tags": []
          },
          "execution_count": 78
        },
        {
          "output_type": "display_data",
          "data": {
            "image/png": "[encoded data removed]",
            "text/plain": [
              "<Figure size 432x288 with 1 Axes>"
            ]
          },
          "metadata": {
            "tags": []
          }
        }
      ]
    },
    {
      "cell_type": "code",
      "metadata": {
        "id": "Ok59viPqAsbL",
        "colab_type": "code",
        "colab": {
          "base_uri": "https://localhost:8080/",
          "height": 297
        },
        "outputId": "903020d3-1d4d-4170-e3f5-7166b608759a"
      },
      "source": [
        "plt.subplot(3,1,1)\n",
        "plt.title('GDP Per Capita')\n",
        "plt.bar(UAE['year'], UAE['gdp_percap'], color = 'r')\n",
        "\n",
        "plt.subplot(3,1,2)\n",
        "plt.title('GDP in Billions')\n",
        "plt.bar(UAE['year'], (UAE['population']*UAE['gdp_percap']/10**9), color = 'g')\n",
        "\n",
        "plt.subplot(3,1,3)\n",
        "plt.title('Population in Millions')\n",
        "plt.bar(UAE['year'], UAE['population']/10**6, color = 'b')\n",
        "plt.tight_layout()"
      ],
      "execution_count": 82,
      "outputs": [
        {
          "output_type": "display_data",
          "data": {
            "image/png": "[encoded data removed]",
            "text/plain": [
              "<Figure size 432x288 with 3 Axes>"
            ]
          },
          "metadata": {
            "tags": []
          }
        }
      ]
    },
    {
      "cell_type": "code",
      "metadata": {
        "id": "gPoNOQp0DIF-",
        "colab_type": "code",
        "colab": {
          "base_uri": "https://localhost:8080/",
          "height": 282
        },
        "outputId": "d037a402-3248-44fb-b4bb-776bc72b1226"
      },
      "source": [
        "#comparing Qatar with UAE\n",
        "\n",
        "pt = data[data['country'] == 'Qatar']\n",
        "plt.bar(pt['year'], pt['gdp_percap'])\n",
        "plt.bar(UAE['year'], UAE['gdp_percap'])\n",
        "plt.legend(['Qatar', 'United Arab Emirates'])"
      ],
      "execution_count": 83,
      "outputs": [
        {
          "output_type": "execute_result",
          "data": {
            "text/plain": [
              "<matplotlib.legend.Legend at 0x7fab82722a90>"
            ]
          },
          "metadata": {
            "tags": []
          },
          "execution_count": 83
        },
        {
          "output_type": "display_data",
          "data": {
            "image/png": "[encoded data removed]",
            "text/plain": [
              "<Figure size 432x288 with 1 Axes>"
            ]
          },
          "metadata": {
            "tags": []
          }
        }
      ]
    },
    {
      "cell_type": "code",
      "metadata": {
        "id": "_S__h1CiE17S",
        "colab_type": "code",
        "colab": {}
      },
      "source": [
        ""
      ],
      "execution_count": 0,
      "outputs": []
    },
    {
      "cell_type": "markdown",
      "metadata": {
        "id": "2oDPJPk2FQwl",
        "colab_type": "text"
      },
      "source": [
        "**Year 2005 approaching UAE has higher GDP**\n",
        "*But after 2005 some mix GDP rate seen between Qatar and UAE*"
      ]
    }
  ]
}